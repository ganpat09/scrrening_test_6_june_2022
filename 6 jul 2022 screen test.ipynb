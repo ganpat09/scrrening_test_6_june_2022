{
 "cells": [
  {
   "cell_type": "markdown",
   "id": "c349d575",
   "metadata": {},
   "source": [
    "## Python Screening Assignment\n"
   ]
  },
  {
   "cell_type": "markdown",
   "id": "0f46436b",
   "metadata": {},
   "source": [
    "### 1. Create a function in python to read the text file and replace specific content of the file.\n",
    "\n",
    "File name: example.txt\n",
    "Origin file content:\n",
    "    \n",
    "    This is a placement assignment\n",
    "\n",
    "    Replace string Placement should be replaced by screening.\n",
    "\n",
    "Replaced file content:\n",
    "     \n",
    "     This is a screening assignment"
   ]
  },
  {
   "cell_type": "code",
   "execution_count": 9,
   "id": "ee4d25b7",
   "metadata": {},
   "outputs": [],
   "source": [
    "import logging\n",
    "import re\n",
    "from fileinput import FileInput\n",
    "import sys\n",
    "import threading\n",
    "\n",
    "formatter = logging.Formatter('[%(asctime)s] p%(process)s {%(pathname)s:%(lineno)d} %(levelname)s - %(message)s',\n",
    "                              '%m-%d %H:%M:%S')\n",
    "\n",
    "logging.basicConfig(filename='screening.log', encoding='utf-8', level=logging.DEBUG, filemode=\"a+\")\n",
    "\n",
    "\n",
    "class Replacer:\n",
    "    \"\"\"Replacer is use for replace the content from text file\"\"\"\n",
    "\n",
    "    def __init__(self, file_name, replace_content_or_regex, replaced_into):\n",
    "        \"\"\" File name: example.txt\n",
    "            Origin file content:\n",
    "\n",
    "            This is a placement assignment\n",
    "\n",
    "            Replace string Placement should be replaced by screening.\n",
    "            Replaced file content:\n",
    "\n",
    "            This is a screening assignment\n",
    "\n",
    "            @replace_content support regex also\n",
    "\n",
    "            \"\"\"\n",
    "\n",
    "        self.file_name = file_name\n",
    "        self.replace_content = replace_content_or_regex\n",
    "        self.replaced_into = replaced_into\n",
    "        self.t = threading.Thread(target=self.start_replacement, name='replacement thread')\n",
    "        \n",
    "\n",
    "    def do_replacement(self):\n",
    "        \"\"\"start replacement\"\"\"\n",
    "        \n",
    "        self.t.start()\n",
    "        self.t.join()\n",
    "        \n",
    "        \n",
    "            \n",
    "            \n",
    "    def start_replacement(self):\n",
    "        \"\"\"start replacement goes backgroundly\"\"\"\n",
    "\n",
    "        try:\n",
    "            with FileInput(self.file_name, inplace=True) as f:\n",
    "\n",
    "                for line in f:\n",
    "                    sys.stdout.write(line.replace(line, re.sub(self.replace_content, self.replaced_into, line, flags=re.IGNORECASE)))\n",
    "                    logging.info(\"Successfully replaced\")\n",
    "\n",
    "            \n",
    "\n",
    "        except Exception as e:\n",
    "            \n",
    "            logging.error(e)      \n",
    "            \n",
    "            \n",
    "\n",
    "\n",
    "if __name__ == \"__main__\":\n",
    "    # dummy purpose add file in starting\n",
    "    with(open(\"example.txt\", \"w+\")) as f:\n",
    "        f.write(\"This is a placement assignment \")\n",
    "\n",
    "    # for specifically regex use raw string    \n",
    "    replacer = Replacer(\"example.txt\", \"Placement\", \"screening\")\n",
    "    replacer.do_replacement()\n",
    "\n",
    "\n"
   ]
  },
  {
   "cell_type": "markdown",
   "id": "5773aaaf",
   "metadata": {},
   "source": [
    "### 2.  Demonstrate use of abstract class, multiple inheritance and decorator in python using examples."
   ]
  },
  {
   "cell_type": "markdown",
   "id": "466fd087",
   "metadata": {},
   "source": [
    "#### Abstract class:\n",
    "An abstract class is to make a template or blueprint of any class that we will use that functionality into another class by extend that class.\n",
    "\n",
    "An abstract class has a feature like abstract method and abstract property.\n",
    "\n",
    "An abstract class also allows concrete methods and property.\n",
    "    "
   ]
  },
  {
   "cell_type": "code",
   "execution_count": 18,
   "id": "62ff34f3",
   "metadata": {},
   "outputs": [
    {
     "name": "stdout",
     "output_type": "stream",
     "text": [
      "M1\n",
      "power on\n",
      "i9\n",
      "power on\n"
     ]
    }
   ],
   "source": [
    "from abc import ABC, abstractmethod, abstractproperty\n",
    "\n",
    "class Laptop(ABC):\n",
    "    \n",
    "    @abstractmethod\n",
    "    def processor(self):\n",
    "        pass\n",
    "    \n",
    "    \n",
    "    @abstractproperty\n",
    "    def power_on(self):\n",
    "        return \"power on button\"\n",
    "    \n",
    "    \n",
    "    \n",
    "class Apple(Laptop):\n",
    "    \n",
    "    def processor(self):\n",
    "        return \"M1\"\n",
    "    \n",
    "    \n",
    "    @property\n",
    "    def power_on(self):\n",
    "        return \"power on\"\n",
    "    \n",
    "    \n",
    "class Dell(Laptop):\n",
    "    \n",
    "    def processor(self):\n",
    "        return \"i9\"\n",
    "    \n",
    "    @property\n",
    "    def power_on(self):\n",
    "        return \"power on\"\n",
    "    \n",
    "    \n",
    "a = Apple()\n",
    "print(a.processor())\n",
    "print(a.power_on)\n",
    "\n",
    "\n",
    "d = Dell()\n",
    "print(d.processor())\n",
    "print(d.power_on)\n",
    "    \n",
    "    "
   ]
  },
  {
   "cell_type": "markdown",
   "id": "a00c011f",
   "metadata": {},
   "source": [
    "#### Multiple inheritance\n",
    "\n",
    "Multiple inheritances are getting the features from multiple parent's class.\n",
    "\n",
    "Python gives the priority to parent classes in multiple inheritances according to Method Resolution Order (MRO) in left to right order.\n",
    "\n",
    "MRO works from left to right in order if is no found object to fulfill the requirement of the call then searching into the parent class.\n"
   ]
  },
  {
   "cell_type": "code",
   "execution_count": 19,
   "id": "25253f3d",
   "metadata": {},
   "outputs": [
    {
     "name": "stdout",
     "output_type": "stream",
     "text": [
      "In Class4\n",
      "In Class2\n",
      "In Class3\n",
      "In Class1\n"
     ]
    }
   ],
   "source": [
    "# this code resource takes from gfg \n",
    "class Class1:\n",
    "    def m(self):\n",
    "        print(\"In Class1\")\n",
    " \n",
    "class Class2(Class1):\n",
    "    def m(self):\n",
    "        print(\"In Class2\")\n",
    "        super().m()\n",
    " \n",
    "class Class3(Class1):\n",
    "    def m(self):\n",
    "        print(\"In Class3\")\n",
    "        super().m()\n",
    " \n",
    "class Class4(Class2, Class3):\n",
    "    def m(self):\n",
    "        print(\"In Class4\")  \n",
    "        super().m()\n",
    "      \n",
    "obj = Class4()\n",
    "obj.m()"
   ]
  },
  {
   "cell_type": "markdown",
   "id": "2767534c",
   "metadata": {},
   "source": [
    "#### Decorator"
   ]
  },
  {
   "cell_type": "markdown",
   "id": "24484e7b",
   "metadata": {},
   "source": [
    "Decorators are a useful tool it allow to modify  behaviour of function or class. Decorators allow us to wrap another function in order to extend the behaviour of the wrapped function, without permanently modifying it."
   ]
  },
  {
   "cell_type": "code",
   "execution_count": 29,
   "id": "5dff738c",
   "metadata": {},
   "outputs": [
    {
     "name": "stdout",
     "output_type": "stream",
     "text": [
      "inner functionality start\n",
      "duration 1654625730.57807\n"
     ]
    }
   ],
   "source": [
    "import time\n",
    "def base(func):\n",
    "    \n",
    "    def function_wrapper():\n",
    "        start = time.time()\n",
    "    \n",
    "        func()\n",
    "    \n",
    "        print(\"duration \"+ str(time.time()))\n",
    "    \n",
    "    return function_wrapper\n",
    "    \n",
    "@base\n",
    "def extend_fun():    \n",
    "    print(\"inner functionality start\")\n",
    "    \n",
    "extend_fun()   \n",
    "    \n",
    "    \n",
    "    \n",
    "    "
   ]
  },
  {
   "cell_type": "code",
   "execution_count": null,
   "id": "d85db669",
   "metadata": {},
   "outputs": [],
   "source": [
    "    "
   ]
  },
  {
   "cell_type": "code",
   "execution_count": null,
   "id": "08cc2dfb",
   "metadata": {},
   "outputs": [],
   "source": []
  }
 ],
 "metadata": {
  "kernelspec": {
   "display_name": "Python 3 (ipykernel)",
   "language": "python",
   "name": "python3"
  },
  "language_info": {
   "codemirror_mode": {
    "name": "ipython",
    "version": 3
   },
   "file_extension": ".py",
   "mimetype": "text/x-python",
   "name": "python",
   "nbconvert_exporter": "python",
   "pygments_lexer": "ipython3",
   "version": "3.9.7"
  }
 },
 "nbformat": 4,
 "nbformat_minor": 5
}
